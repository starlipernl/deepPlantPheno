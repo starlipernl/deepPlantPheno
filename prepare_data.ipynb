{
 "cells": [
  {
   "cell_type": "code",
   "execution_count": 0,
   "metadata": {
    "colab": {
     "base_uri": "https://localhost:8080/",
     "height": 122
    },
    "colab_type": "code",
    "id": "BJXfQBYm09U8",
    "outputId": "ee68dc44-3fbc-4cf9-a03a-c08d9f4b754b"
   },
   "outputs": [
    {
     "name": "stdout",
     "output_type": "stream",
     "text": [
      "Go to this URL in a browser: https://accounts.google.com/o/oauth2/auth?client_id=947318989803-6bn6qk8qdgf4n4g3pfee6491hc0brc4i.apps.googleusercontent.com&redirect_uri=urn%3Aietf%3Awg%3Aoauth%3A2.0%3Aoob&scope=email%20https%3A%2F%2Fwww.googleapis.com%2Fauth%2Fdocs.test%20https%3A%2F%2Fwww.googleapis.com%2Fauth%2Fdrive%20https%3A%2F%2Fwww.googleapis.com%2Fauth%2Fdrive.photos.readonly%20https%3A%2F%2Fwww.googleapis.com%2Fauth%2Fpeopleapi.readonly&response_type=code\n",
      "\n",
      "Enter your authorization code:\n",
      "··········\n",
      "Mounted at /content/drive\n"
     ]
    }
   ],
   "source": [
    "from google.colab import drive\n",
    "drive.mount('/content/drive')"
   ]
  },
  {
   "cell_type": "code",
   "execution_count": 0,
   "metadata": {
    "colab": {
     "base_uri": "https://localhost:8080/",
     "height": 35
    },
    "colab_type": "code",
    "id": "8BEdeHiq1UjD",
    "outputId": "4a8ce6a6-c756-4a29-acc5-945bd9796ac4"
   },
   "outputs": [
    {
     "name": "stdout",
     "output_type": "stream",
     "text": [
      "/content/drive/My Drive/Colab Notebooks\n"
     ]
    }
   ],
   "source": [
    "%cd '/content/drive/My Drive/Colab Notebooks'"
   ]
  },
  {
   "cell_type": "code",
   "execution_count": 0,
   "metadata": {
    "colab": {},
    "colab_type": "code",
    "collapsed": true,
    "id": "iqLrZDpV-lY5"
   },
   "outputs": [],
   "source": [
    "#!git clone https://github.com/eriklindernoren/PyTorch-YOLOv3.git"
   ]
  },
  {
   "cell_type": "code",
   "execution_count": 0,
   "metadata": {
    "colab": {},
    "colab_type": "code",
    "collapsed": true,
    "id": "vB92oM8cp8NJ"
   },
   "outputs": [],
   "source": [
    "# # rename ground truth directories to match the original images directories\n",
    "# # %cd '/content/drive/My Drive/Colab Notebooks'\n",
    "import os\n",
    "old_dir_labels = 'GEAR_resources/UNL-CPPD/UNL-CPPD/Ground Truth'\n",
    "for plant_dir in os.listdir(old_dir_labels):\n",
    "  for view_dir in os.listdir(os.path.join(old_dir_labels, plant_dir)):\n",
    "    split_dir = view_dir.split('_')\n",
    "    old_path = os.path.join(old_dir_labels, plant_dir, view_dir)\n",
    "    if len(split_dir) > 1:\n",
    "      new_path = os.path.join(old_dir_labels, plant_dir, split_dir[2])\n",
    "      os.rename(old_path, new_path)"
   ]
  },
  {
   "cell_type": "code",
   "execution_count": 0,
   "metadata": {
    "colab": {},
    "colab_type": "code",
    "collapsed": true,
    "id": "5_xbkPRWwX98"
   },
   "outputs": [],
   "source": [
    "import shutil\n",
    "import re\n",
    "\n",
    "old_dir_images = 'GEAR_resources/UNL-CPPD/UNL-CPPD/Original Image'\n",
    "old_dir_labels = 'GEAR_resources/UNL-CPPD/UNL-CPPD/Ground Truth'\n",
    "new_dir_images = 'PyTorch-YOLOv3/data/custom/images'\n",
    "\n",
    "i = 0\n",
    "# move images from Ground Truth to the model\n",
    "# name the new images as numbers start from 0\n",
    "def moveImage(path, path_labels):\n",
    "    global i\n",
    "    for file in sorted(os.listdir(path)):\n",
    "        fs = os.path.join(path, file)\n",
    "        fs_label = os.path.join(path_labels, file)\n",
    "        if os.path.isfile(fs) and os.path.splitext(file)[-1] == '.png':\n",
    "            old_label = os.path.join(path_labels, os.path.splitext(file)[0] + '.json' )\n",
    "            if os.path.isfile(old_label):\n",
    "              new_name = str(i) + '.png'\n",
    "              newfile_path = os.path.join(new_dir_images, new_name)\n",
    "              shutil.copyfile(fs,newfile_path)\n",
    "              i += 1\n",
    "        elif os.path.isdir(fs):\n",
    "            moveImage(fs, fs_label)\n",
    "\n",
    "            # move json from Ground Truth to the model\n",
    "# name the new images as numbers start from 0\n",
    "# operate on the json file:\n",
    "# 1.transfer to .txt\n",
    "# 2.draw boxes using centerals\n",
    "\n",
    "# import shutil\n",
    "# move and transfer json file\n",
    "old_dir_labels = 'GEAR_resources/UNL-CPPD/UNL-CPPD/Ground Truth'\n",
    "new_dir_labels = 'PyTorch-YOLOv3/data/custom/labels'\n",
    "j = 0\n",
    "def moveJson(path):\n",
    "    global j\n",
    "    for file in sorted(os.listdir(path)):\n",
    "        fs = os.path.join(path, file)\n",
    "        if os.path.isfile(fs) and os.path.splitext(file)[-1] == '.json':\n",
    "            new_name = str(j) + '.txt'\n",
    "            newfile_path = os.path.join(new_dir_labels, new_name)\n",
    "            shutil.copyfile(fs,newfile_path)\n",
    "            j += 1\n",
    "        elif os.path.isdir(fs):\n",
    "            moveJson(fs)\n",
    "moveImage(old_dir_images, old_dir_labels)\n",
    "moveJson(old_dir_labels)\n"
   ]
  },
  {
   "cell_type": "code",
   "execution_count": 0,
   "metadata": {
    "colab": {},
    "colab_type": "code",
    "collapsed": true,
    "id": "AGPQy0Wc4H09"
   },
   "outputs": [],
   "source": [
    "# %cd '/content/drive/My Drive/Colab Notebooks/PyTorch-YOLOv3/data/custom/images'\n",
    "\n",
    "# for k in range(0,1000):\n",
    "#     name = str(k) + '.txt'\n",
    "#     os.remove(name)"
   ]
  },
  {
   "cell_type": "code",
   "execution_count": 0,
   "metadata": {
    "colab": {},
    "colab_type": "code",
    "collapsed": true,
    "id": "QQetwN8ATmmc"
   },
   "outputs": [],
   "source": [
    "\n",
    "# move json from Ground Truth to the model\n",
    "# name the new images as numbers start from 0\n",
    "# operate on the json file:\n",
    "# 1.transfer to .txt\n",
    "# 2.draw boxes using centerals\n",
    "\n",
    "# import shutil\n",
    "# move and transfer json file\n",
    "old_dir_labels = 'GEAR_resources/UNL-CPPD/UNL-CPPD/Ground Truth'\n",
    "new_dir_labels = 'PyTorch-YOLOv3/data/custom/labels'\n",
    "j = 0\n",
    "def moveJson(path):\n",
    "    global j\n",
    "    for file in sorted(os.listdir(path)):\n",
    "        fs = os.path.join(path, file)\n",
    "        if os.path.isfile(fs) and os.path.splitext(file)[-1] == '.json':\n",
    "            new_name = str(j) + '.txt'\n",
    "            newfile_path = os.path.join(new_dir_labels, new_name)\n",
    "            shutil.copyfile(fs,newfile_path)\n",
    "            j += 1\n",
    "        elif os.path.isdir(fs):\n",
    "            moveJson(fs)\n",
    "\n",
    "moveJson(old_dir_labels)"
   ]
  },
  {
   "cell_type": "code",
   "execution_count": 0,
   "metadata": {
    "colab": {
     "base_uri": "https://localhost:8080/",
     "height": 35
    },
    "colab_type": "code",
    "id": "7bKkgdlM261q",
    "outputId": "f484c363-91f5-4023-d1ab-8346cd3e8209"
   },
   "outputs": [
    {
     "name": "stdout",
     "output_type": "stream",
     "text": [
      "/content/drive/My Drive/Colab Notebooks\n"
     ]
    }
   ],
   "source": [
    "# draw boxes\n",
    "%cd '/content/drive/My Drive/Colab Notebooks'\n",
    "# import os\n",
    "# import re\n",
    "# operate on the annotations to draw boxes and zoom \n",
    "for file in os.listdir(new_dir_labels):\n",
    "    mylist = []\n",
    "    fs = os.path.join(new_dir_labels, file)\n",
    "    with open(fs, 'r') as f:\n",
    "        while True:\n",
    "            line = f.readline()\n",
    "            if not line:\n",
    "                break;\n",
    "\n",
    "            tip = re.search( r'tip', line)\n",
    "            collar = re.search( r'collar', line)\n",
    "            if tip:\n",
    "                x = re.findall(r\"\\d+\\.?\\d*\",f.readline())\n",
    "                y = re.findall(r\"\\d+\\.?\\d*\",f.readline())\n",
    "                if len(x) >= 1 and len(y) >=1:\n",
    "                    box = '0 '+str(float(x[0])/2454.000)+' '+str(float(y[0])/2056.000)+' 0.0275'+' 0.0275\\n'\n",
    "                    mylist.append(box)\n",
    "            if collar:\n",
    "                x = re.findall(r\"\\d+\\.?\\d*\",f.readline())\n",
    "                y = re.findall(r\"\\d+\\.?\\d*\",f.readline())\n",
    "                if len(x) >= 1 and len(y) >=1:\n",
    "                    box = '1 '+str(float(x[0])/2454.000)+' '+str(float(y[0])/2056.000)+' 0.0275'+' 0.0275\\n'\n",
    "                    mylist.append(box)\n",
    "            else:\n",
    "                pass\n",
    "    with open(fs, 'w') as f:\n",
    "        for cor in mylist:\n",
    "            f.writelines(cor)\n",
    "            f.write('\\n')\n"
   ]
  },
  {
   "cell_type": "code",
   "execution_count": 0,
   "metadata": {
    "colab": {},
    "colab_type": "code",
    "collapsed": true,
    "id": "If8jUzjQswNG"
   },
   "outputs": [],
   "source": [
    "def removeEmpty():\n",
    "    for file in os.listdir(new_dir_labels):\n",
    "        label_path = os.path.join(new_dir_labels, file)\n",
    "        image_file = str(os.path.splitext(file)[0]) + '.png'\n",
    "        image_path = os.path.join(new_dir_images, image_file)\n",
    "        if os.path.getsize(label_path) <= 0:\n",
    "            os.remove(label_path)\n",
    "            os.remove(image_path)\n",
    "\n",
    "removeEmpty()"
   ]
  },
  {
   "cell_type": "code",
   "execution_count": 0,
   "metadata": {
    "colab": {
     "base_uri": "https://localhost:8080/",
     "height": 34
    },
    "colab_type": "code",
    "id": "V5ZAGa1p75Wv",
    "outputId": "ccaa7945-a5a5-4b64-fee1-c7948dec1461"
   },
   "outputs": [
    {
     "name": "stdout",
     "output_type": "stream",
     "text": [
      "/content/drive/My Drive/Colab Notebooks/PyTorch-YOLOv3\n"
     ]
    }
   ],
   "source": [
    "import cv2\n",
    "import numpy as np\n",
    "import matplotlib.pyplot as plt\n",
    "%cd '/content/drive/My Drive/Colab Notebooks/PyTorch-YOLOv3'"
   ]
  },
  {
   "cell_type": "code",
   "execution_count": 0,
   "metadata": {
    "colab": {},
    "colab_type": "code",
    "collapsed": true,
    "id": "jI6ZPnUSO6LJ"
   },
   "outputs": [],
   "source": [
    "#draw ground truth bounding boxes on images\n",
    "def drawbbox(image, rects):\n",
    "  for i, x, y, w, h in rects:\n",
    "    x1 = int((x - w/2) * 2454)\n",
    "    y1 = int((y - h/2) * 2056)\n",
    "    x2 = int((x + w/2) * 2454)\n",
    "    y2 = int((y + h/2) * 2056)\n",
    "    cv2.rectangle(image, (x1, y1), (x2, y2), (0, 0, 255), 2)\n",
    "  return image"
   ]
  },
  {
   "cell_type": "code",
   "execution_count": 0,
   "metadata": {
    "colab": {},
    "colab_type": "code",
    "collapsed": true,
    "id": "u8ySbHMSUyql"
   },
   "outputs": [],
   "source": [
    "#draw ground truth bounding boxes on images\n",
    "new_dir_labels = 'PyTorch-YOLOv3/data/custom/labels'\n",
    "new_dir_images = 'PyTorch-YOLOv3/data/custom/images'\n",
    "dir_output = 'annotations'\n",
    "ann_list = []\n",
    "im_list = []\n",
    "for file in sorted(os.listdir(new_dir_labels)):\n",
    "#   ann_list.append([line.rstrip('\\n') for line in open(os.path.join(new_dir_labels,file))])\n",
    "  file_path = os.path.join(new_dir_labels, file)\n",
    "  line_list = np.loadtxt(file_path)\n",
    "  ann_list.append(line_list)\n",
    "  \n",
    "im_list = sorted(os.listdir(new_dir_images))\n",
    "\n",
    "for idx in range(0, len(im_list)):\n",
    "  im_path = os.path.join(new_dir_images, im_list[idx])\n",
    "  img = cv2.imread(im_path)\n",
    "  imgbbox = drawbbox(img, ann_list[idx])\n",
    "  cv2.imwrite(os.path.join(dir_output, im_list[idx]), imgbbox)"
   ]
  },
  {
   "cell_type": "code",
   "execution_count": 0,
   "metadata": {
    "colab": {},
    "colab_type": "code",
    "collapsed": true,
    "id": "AQ7OqKDH-NFB"
   },
   "outputs": [],
   "source": [
    "# copy validation images to test_images folder\n",
    "\n",
    "valid_file = 'data/custom/valid.txt'\n",
    "with open(valid_file, 'r') as f:\n",
    "  img_paths = [line.rstrip() for line in f]\n"
   ]
  },
  {
   "cell_type": "code",
   "execution_count": 0,
   "metadata": {
    "colab": {},
    "colab_type": "code",
    "collapsed": true,
    "id": "Lgl7OAsC-TJ_"
   },
   "outputs": [],
   "source": [
    "for img_path in img_paths:\n",
    "  if os.path.isfile(img_path):\n",
    "     newimg_path = os.path.join('data/custom/test_images', os.path.basename(img_path)) \n",
    "     shutil.copyfile(img_path, newimg_path)"
   ]
  }
 ],
 "metadata": {
  "accelerator": "GPU",
  "colab": {
   "collapsed_sections": [],
   "name": "get_started",
   "provenance": []
  },
  "kernelspec": {
   "display_name": "Python 3",
   "language": "python",
   "name": "python3"
  },
  "language_info": {
   "codemirror_mode": {
    "name": "ipython",
    "version": 3
   },
   "file_extension": ".py",
   "mimetype": "text/x-python",
   "name": "python",
   "nbconvert_exporter": "python",
   "pygments_lexer": "ipython3",
   "version": "3.6.3"
  }
 },
 "nbformat": 4,
 "nbformat_minor": 1
}
